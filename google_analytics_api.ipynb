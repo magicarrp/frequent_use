{
 "cells": [
  {
   "cell_type": "code",
   "execution_count": 1,
   "metadata": {},
   "outputs": [
    {
     "name": "stderr",
     "output_type": "stream",
     "text": [
      "R[write to console]: Waiting for authentication in browser...\n",
      "\n",
      "R[write to console]: Press Esc/Ctrl + C to abort\n",
      "\n",
      "R[write to console]: Authentication complete.\n",
      "\n",
      "R[write to console]: Access Token is valid.\n",
      "\n"
     ]
    },
    {
     "data": {
      "text/plain": [
       "<rpy2.rinterface_lib.sexp.NULLType object at 0x000001FB2385D4C8> [RTYPES.NILSXP]"
      ]
     },
     "execution_count": 1,
     "metadata": {},
     "output_type": "execute_result"
    }
   ],
   "source": [
    "import os\n",
    "#os.environ['R_HOME'] = 'C:/Users/mkindem/Anaconda3/Lib/R'\n",
    "os.environ['R_HOME'] = r'C:\\Program Files\\R\\R-3.6.1'\n",
    "\n",
    "from rpy2.robjects import pandas2ri \n",
    "pandas2ri.activate()\n",
    "from rpy2.robjects.packages import importr as rgoog\n",
    "rpackage = rgoog('RGoogleAnalytics') \n",
    "\n",
    "\n",
    "d = {'package.dependencies': 'package_dot_dependencies',\n",
    "     'package_dependencies': 'package_uscore_dependencies'}\n",
    "tools = rgoog('tools', robject_translations = d)\n",
    "\n",
    "#Mark's credential\n",
    "#token3 = rpackage.Auth(\"10709164256-6lf7fmn9ei2no55loqps3km5iup4944e.apps.googleusercontent.com\",\"ehFE4ldThMjTi5mboOcP-Sxo\")\n",
    "token3 = rpackage.Auth(\"179233006828-upgs57njspci4jee0vtr978oadiltc1h.apps.googleusercontent.com\",\"1DI_dnFBOkKbMj0TSdYqY9lZ\")\n",
    "rpackage.ValidateToken(token3)"
   ]
  },
  {
   "cell_type": "code",
   "execution_count": 2,
   "metadata": {},
   "outputs": [
    {
     "name": "stderr",
     "output_type": "stream",
     "text": [
      "R[write to console]: Access Token is valid.\n",
      "\n",
      "R[write to console]: [ Run 0 of 2] Getting data for 2020-12-31\n",
      "\n",
      "R[write to console]: [ Run 1 of 2] Getting data for 2021-01-01\n",
      "\n",
      "R[write to console]: [ Run 2 of 2] Getting data for 2021-01-02\n",
      "\n",
      "R[write to console]: The API returned 3826 results.\n",
      "\n"
     ]
    }
   ],
   "source": [
    "#################\n",
    "# Make Date Edit here\n",
    "##################\n",
    "sdate = \"2021-01-01\"\n",
    "edate = \"2021-01-03\"\n",
    "\n",
    "\n",
    "#######Phase 1: Visits\n",
    "#Visits (HomePage)\n",
    "query_list = rpackage.Init(start_date = sdate, \n",
    "                           end_date = edate, \n",
    "                           dimension = \"ga:date,ga:keyword,ga:country,ga:deviceCategory,ga:sourceMedium,ga:landingPagePath\", \n",
    "                           metrics = \"ga:sessions\",\n",
    "                           sort = \"ga:date,ga:keyword,ga:country,ga:deviceCategory,ga:sourceMedium,ga:landingPagePath\", \n",
    "                           max_results = 10000, \n",
    "                           table_id= \"ga:174698893\")\n",
    "  \n",
    "  \n",
    "  \n",
    "ga_query = rpackage.QueryBuilder(query_list)\n",
    "ga_sessions1 = rpackage.GetReportData(ga_query,token3,split_daywise = True)"
   ]
  },
  {
   "cell_type": "code",
   "execution_count": 4,
   "metadata": {},
   "outputs": [
    {
     "data": {
      "text/html": [
       "<div>\n",
       "<style scoped>\n",
       "    .dataframe tbody tr th:only-of-type {\n",
       "        vertical-align: middle;\n",
       "    }\n",
       "\n",
       "    .dataframe tbody tr th {\n",
       "        vertical-align: top;\n",
       "    }\n",
       "\n",
       "    .dataframe thead th {\n",
       "        text-align: right;\n",
       "    }\n",
       "</style>\n",
       "<table border=\"1\" class=\"dataframe\">\n",
       "  <thead>\n",
       "    <tr style=\"text-align: right;\">\n",
       "      <th></th>\n",
       "      <th>date</th>\n",
       "      <th>keyword</th>\n",
       "      <th>country</th>\n",
       "      <th>deviceCategory</th>\n",
       "      <th>sourceMedium</th>\n",
       "      <th>landingPagePath</th>\n",
       "      <th>sessions</th>\n",
       "    </tr>\n",
       "  </thead>\n",
       "  <tbody>\n",
       "    <tr>\n",
       "      <th>1</th>\n",
       "      <td>20210102</td>\n",
       "      <td>(not provided)</td>\n",
       "      <td>(not set)</td>\n",
       "      <td>desktop</td>\n",
       "      <td>google / organic</td>\n",
       "      <td>/</td>\n",
       "      <td>3.0</td>\n",
       "    </tr>\n",
       "    <tr>\n",
       "      <th>2</th>\n",
       "      <td>20210102</td>\n",
       "      <td>(not provided)</td>\n",
       "      <td>(not set)</td>\n",
       "      <td>desktop</td>\n",
       "      <td>google / organic</td>\n",
       "      <td>/about-us/careers/</td>\n",
       "      <td>1.0</td>\n",
       "    </tr>\n",
       "    <tr>\n",
       "      <th>3</th>\n",
       "      <td>20210102</td>\n",
       "      <td>(not provided)</td>\n",
       "      <td>(not set)</td>\n",
       "      <td>desktop</td>\n",
       "      <td>google / organic</td>\n",
       "      <td>/breed-spotlights/maltipoo/</td>\n",
       "      <td>1.0</td>\n",
       "    </tr>\n",
       "    <tr>\n",
       "      <th>4</th>\n",
       "      <td>20210102</td>\n",
       "      <td>(not provided)</td>\n",
       "      <td>(not set)</td>\n",
       "      <td>desktop</td>\n",
       "      <td>google / organic</td>\n",
       "      <td>/pet-care/how-often-should-i-give-my-cat-a-bath/</td>\n",
       "      <td>3.0</td>\n",
       "    </tr>\n",
       "    <tr>\n",
       "      <th>5</th>\n",
       "      <td>20210102</td>\n",
       "      <td>(not provided)</td>\n",
       "      <td>(not set)</td>\n",
       "      <td>desktop</td>\n",
       "      <td>google / organic</td>\n",
       "      <td>/pet-care/how-to-properly-bandage-a-paw/</td>\n",
       "      <td>1.0</td>\n",
       "    </tr>\n",
       "  </tbody>\n",
       "</table>\n",
       "</div>"
      ],
      "text/plain": [
       "       date         keyword    country deviceCategory      sourceMedium  \\\n",
       "1  20210102  (not provided)  (not set)        desktop  google / organic   \n",
       "2  20210102  (not provided)  (not set)        desktop  google / organic   \n",
       "3  20210102  (not provided)  (not set)        desktop  google / organic   \n",
       "4  20210102  (not provided)  (not set)        desktop  google / organic   \n",
       "5  20210102  (not provided)  (not set)        desktop  google / organic   \n",
       "\n",
       "                                    landingPagePath  sessions  \n",
       "1                                                 /       3.0  \n",
       "2                                /about-us/careers/       1.0  \n",
       "3                       /breed-spotlights/maltipoo/       1.0  \n",
       "4  /pet-care/how-often-should-i-give-my-cat-a-bath/       3.0  \n",
       "5          /pet-care/how-to-properly-bandage-a-paw/       1.0  "
      ]
     },
     "execution_count": 4,
     "metadata": {},
     "output_type": "execute_result"
    }
   ],
   "source": [
    "ga_sessions1.head()"
   ]
  },
  {
   "cell_type": "code",
   "execution_count": null,
   "metadata": {},
   "outputs": [],
   "source": []
  }
 ],
 "metadata": {
  "kernelspec": {
   "display_name": "Python 3",
   "language": "python",
   "name": "python3"
  },
  "language_info": {
   "codemirror_mode": {
    "name": "ipython",
    "version": 3
   },
   "file_extension": ".py",
   "mimetype": "text/x-python",
   "name": "python",
   "nbconvert_exporter": "python",
   "pygments_lexer": "ipython3",
   "version": "3.6.4"
  }
 },
 "nbformat": 4,
 "nbformat_minor": 2
}
